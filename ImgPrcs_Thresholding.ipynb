{
 "cells": [
  {
   "cell_type": "code",
   "execution_count": 1,
   "metadata": {
    "tags": []
   },
   "outputs": [],
   "source": [
    "import cv2\n",
    "import numpy as np"
   ]
  },
  {
   "cell_type": "code",
   "execution_count": 2,
   "metadata": {},
   "outputs": [],
   "source": [
    "def img_cvt2gray(img):\n",
    "    gray_img = cv2.cvtColor(img,cv2.COLOR_BGR2GRAY)\n",
    "    return gray_img"
   ]
  },
  {
   "cell_type": "code",
   "execution_count": 3,
   "metadata": {},
   "outputs": [],
   "source": [
    "def read_img(img,chn=3):\n",
    "    img_read = cv2.imread(img,chn)\n",
    "    return img_read"
   ]
  },
  {
   "cell_type": "code",
   "execution_count": 17,
   "metadata": {},
   "outputs": [],
   "source": [
    "def convertBinary(T1, T2, image_data):\n",
    "    # grab the image dimensions\n",
    "    maskImg = np.full_like(image_data, 255)\n",
    "    for y in range(0,image_data.shape[0]):\n",
    "        for x in range(0,image_data.shape[1]):\n",
    "            # threshold the pixel\n",
    "            # if maskImg[y, x] >= T:\n",
    "            #     maskImg[y, x] = 0\n",
    "                if ((image_data[y, x] >= T1) and (image_data[y, x] <= T2)): #BrownBlack\n",
    "                    maskImg[y, x] = 0\n",
    "\n",
    "    return maskImg"
   ]
  },
  {
   "cell_type": "code",
   "execution_count": 4,
   "metadata": {},
   "outputs": [],
   "source": [
    "def remove_nonLaneLine(T, image_data):\n",
    "    # grab the image dimensions\n",
    "    maskImg = np.full_like(image_data, 255)\n",
    "    for y in range(0,image_data.shape[0]):\n",
    "        for x in range(0,image_data.shape[1]):\n",
    "            # threshold the pixel\n",
    "            # if maskImg[y, x] >= T:\n",
    "            #     maskImg[y, x] = 0\n",
    "                if image_data[y, x] <= T: #BrownBlack\n",
    "                    maskImg[y, x] = image_data[y, x]\n",
    "\n",
    "    return maskImg"
   ]
  },
  {
   "cell_type": "code",
   "execution_count": 7,
   "metadata": {},
   "outputs": [
    {
     "name": "stdout",
     "output_type": "stream",
     "text": [
      "D:/Project/AI_Med/splitImg/55.jpg\n"
     ]
    },
    {
     "data": {
      "text/plain": [
       "True"
      ]
     },
     "execution_count": 7,
     "metadata": {},
     "output_type": "execute_result"
    }
   ],
   "source": [
    "path = \"D:/Project/AI_Med/splitImg/\"\n",
    "file = \"55.jpg\"\n",
    "wrtGryImg = \"greyImg.jpg\"\n",
    "wrtInvImg = \"invImg.jpg\"\n",
    "wrtThreshImg = \"threshImg.jpg\"\n",
    "wrtInvAndImg = \"invAndImg.jpg\"\n",
    "img = path+file\n",
    "blankImgRead = cv2.imread(wrtGryImg)\n",
    "blankImg = np.full_like(blankImgRead, 255)\n",
    "# cv2.imshow(\"ImageRegion\", blankImg)     \n",
    "# cv2.waitKey(0)\n",
    "# # closing all open windows\n",
    "# cv2.destroyAllWindows()\n",
    "print(img)\n",
    "img_read = cv2.imread(img)\n",
    "gausBlur = cv2.GaussianBlur(img_read, (5,5),0)  \n",
    "gray_img = img_cvt2gray(img_read)\n",
    "cv2.imwrite(wrtGryImg, gray_img)\n",
    "imgInv = cv2.bitwise_not(gray_img) #invert the image\n",
    "cv2.imwrite(wrtInvImg, imgInv)\n",
    "ThresImg = remove_nonLaneLine(100, gray_img) #mask non-lane center line by thresholding\n",
    "rgbPixel = cv2.cvtColor(ThresImg,cv2.COLOR_GRAY2RGB)\n",
    "cv2.imwrite(wrtThreshImg, ThresImg)\n",
    "expImg_Inv = cv2.bitwise_or(img_read,rgbPixel) # remove non-lane center line by and with invertedImg\n",
    "\n",
    "cv2.imwrite(wrtInvAndImg, expImg_Inv)"
   ]
  },
  {
   "cell_type": "code",
   "execution_count": 19,
   "metadata": {},
   "outputs": [],
   "source": [
    "gausBlur = cv2.GaussianBlur(gray_img, (9,9),0)  \n",
    "edged = cv2.Canny(gausBlur, 30, 200) \n",
    "binaryImg = convertBinary(180, 200, gray_img)\n",
    "testImg_Inv = cv2.bitwise_xor(gray_img,imgInv) \n",
    "imS = cv2.resize(binaryImg, (960, 540))  \n",
    "cv2.imshow(\"ImageRegion\", imS)     \n",
    "cv2.waitKey(0)\n",
    "# closing all open windows\n",
    "cv2.destroyAllWindows()"
   ]
  },
  {
   "cell_type": "code",
   "execution_count": null,
   "metadata": {},
   "outputs": [],
   "source": []
  }
 ],
 "metadata": {
  "kernelspec": {
   "display_name": "AdvLane",
   "language": "python",
   "name": "advlane"
  },
  "language_info": {
   "codemirror_mode": {
    "name": "ipython",
    "version": 3
   },
   "file_extension": ".py",
   "mimetype": "text/x-python",
   "name": "python",
   "nbconvert_exporter": "python",
   "pygments_lexer": "ipython3",
   "version": "3.6.10"
  }
 },
 "nbformat": 4,
 "nbformat_minor": 4
}
