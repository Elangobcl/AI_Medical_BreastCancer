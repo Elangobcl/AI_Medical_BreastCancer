{
 "cells": [
  {
   "cell_type": "code",
   "execution_count": 1,
   "metadata": {},
   "outputs": [],
   "source": [
    "import numpy as np\n",
    "import cv2 as cv"
   ]
  },
  {
   "cell_type": "code",
   "execution_count": 2,
   "metadata": {},
   "outputs": [],
   "source": [
    "# mouse callback function\n",
    "def draw_circle(event,x,y,flags,param):\n",
    "    if event == cv.EVENT_LBUTTONDBLCLK:\n",
    "        print(imgRsz[y,x]) #img[width,height]\n",
    "        #cv.circle(img,(x,y),100,(255,0,0),-1)"
   ]
  },
  {
   "cell_type": "code",
   "execution_count": 7,
   "metadata": {},
   "outputs": [
    {
     "name": "stdout",
     "output_type": "stream",
     "text": [
      "[180 180 180]\n",
      "[200 200 200]\n",
      "[208 208 208]\n",
      "[188 188 188]\n"
     ]
    }
   ],
   "source": [
    "# Create a black image, a window and bind the function to window\n",
    "#img = np.zeros((512,512,3), np.uint8)\n",
    "path = \"D:/Project/AI_Med/\"\n",
    "file = \"greyImg.jpg\"\n",
    "file1 = \"55.jpg\"\n",
    "imgPath = path+file\n",
    "wrtInvAndImg = \"invAndImg.jpg\"\n",
    "img = cv.imread(imgPath)\n",
    "imgRsz = cv.resize(img, (960, 540)) \n",
    "cv.namedWindow('image')\n",
    "cv.setMouseCallback('image',draw_circle)\n",
    " \n",
    "while(1):\n",
    "    cv.imshow('image',imgRsz)\n",
    "    if cv.waitKey(20) & 0xFF == 27:\n",
    "        break\n",
    "cv.destroyAllWindows()"
   ]
  },
  {
   "cell_type": "code",
   "execution_count": null,
   "metadata": {},
   "outputs": [],
   "source": []
  }
 ],
 "metadata": {
  "kernelspec": {
   "display_name": "AdvLane",
   "language": "python",
   "name": "advlane"
  },
  "language_info": {
   "codemirror_mode": {
    "name": "ipython",
    "version": 3
   },
   "file_extension": ".py",
   "mimetype": "text/x-python",
   "name": "python",
   "nbconvert_exporter": "python",
   "pygments_lexer": "ipython3",
   "version": "3.6.10"
  }
 },
 "nbformat": 4,
 "nbformat_minor": 4
}
